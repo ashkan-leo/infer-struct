{
 "cells": [
  {
   "cell_type": "markdown",
   "id": "growing-english",
   "metadata": {},
   "source": [
    "# Preamble"
   ]
  },
  {
   "cell_type": "markdown",
   "id": "bulgarian-array",
   "metadata": {},
   "source": [
    "Ignore the errors raised because of nb-black"
   ]
  },
  {
   "cell_type": "code",
   "execution_count": null,
   "id": "strong-letter",
   "metadata": {},
   "outputs": [],
   "source": [
    "cd ../"
   ]
  },
  {
   "cell_type": "code",
   "execution_count": 7,
   "id": "large-ballot",
   "metadata": {},
   "outputs": [
    {
     "data": {
      "text/plain": [
       "'/Users/ashkanaleali/w/infer_struct'"
      ]
     },
     "execution_count": 7,
     "metadata": {},
     "output_type": "execute_result"
    },
    {
     "name": "stdout",
     "output_type": "stream",
     "text": [
      "time: 2.4 ms (started: 2021-03-30 22:50:53 -05:00)\n"
     ]
    }
   ],
   "source": [
    "pwd"
   ]
  },
  {
   "cell_type": "code",
   "execution_count": 8,
   "id": "emerging-style",
   "metadata": {},
   "outputs": [
    {
     "name": "stdout",
     "output_type": "stream",
     "text": [
      "The lab_black extension is already loaded. To reload it, use:\n",
      "  %reload_ext lab_black\n",
      "The autoreload extension is already loaded. To reload it, use:\n",
      "  %reload_ext autoreload\n",
      "The autotime extension is already loaded. To reload it, use:\n",
      "  %reload_ext autotime\n",
      "time: 7.92 ms (started: 2021-03-30 22:51:28 -05:00)\n"
     ]
    }
   ],
   "source": [
    "%load_ext lab_black\n",
    "%matplotlib inline\n",
    "%load_ext autoreload\n",
    "%autoreload 2\n",
    "%load_ext autotime"
   ]
  },
  {
   "cell_type": "markdown",
   "id": "approved-pregnancy",
   "metadata": {},
   "source": [
    "## Imports"
   ]
  },
  {
   "cell_type": "code",
   "execution_count": 59,
   "id": "embedded-potato",
   "metadata": {},
   "outputs": [
    {
     "name": "stdout",
     "output_type": "stream",
     "text": [
      "time: 2.92 ms (started: 2021-03-30 23:21:34 -05:00)\n"
     ]
    }
   ],
   "source": [
    "import os\n",
    "import numpy as np\n",
    "import pandas as pd"
   ]
  },
  {
   "cell_type": "code",
   "execution_count": 109,
   "id": "clear-tsunami",
   "metadata": {},
   "outputs": [
    {
     "name": "stdout",
     "output_type": "stream",
     "text": [
      "time: 4.13 ms (started: 2021-03-31 00:12:57 -05:00)\n"
     ]
    }
   ],
   "source": [
    "from infer_struct.data import PowerGridSimpleExample"
   ]
  },
  {
   "cell_type": "markdown",
   "id": "automotive-niagara",
   "metadata": {},
   "source": [
    "# Data"
   ]
  },
  {
   "cell_type": "markdown",
   "id": "flying-optimum",
   "metadata": {},
   "source": [
    "This notebook is just to see how to load the data Amir has provided."
   ]
  },
  {
   "cell_type": "code",
   "execution_count": 148,
   "id": "disabled-toyota",
   "metadata": {},
   "outputs": [
    {
     "name": "stdout",
     "output_type": "stream",
     "text": [
      "time: 4.35 ms (started: 2021-03-31 00:41:04 -05:00)\n"
     ]
    }
   ],
   "source": [
    "node_number = 9\n",
    "data_dir = \"../data/Network_raw_data_Ashkan/\"\n",
    "example_id = f\"{node_number}_nodes\""
   ]
  },
  {
   "cell_type": "code",
   "execution_count": 149,
   "id": "departmental-necessity",
   "metadata": {},
   "outputs": [
    {
     "name": "stdout",
     "output_type": "stream",
     "text": [
      "time: 31.2 ms (started: 2021-03-31 00:41:04 -05:00)\n"
     ]
    }
   ],
   "source": [
    "ex = PowerGridSimpleExample(node_number)"
   ]
  },
  {
   "cell_type": "markdown",
   "id": "funky-tablet",
   "metadata": {},
   "source": [
    "+ There are 2 $nxn$ matrices and 6 vectors for each example. The vectors have length < $n$ and the missing elements are treated as zero.\n",
    "+ Each vector is given by a tuple where the first element is the index of the element -- sparse matrix representation?\n"
   ]
  },
  {
   "cell_type": "markdown",
   "id": "banner-feeding",
   "metadata": {},
   "source": [
    "The PowerGridSimpleExample do some normalizations."
   ]
  }
 ],
 "metadata": {
  "kernelspec": {
   "display_name": "Python 3",
   "language": "python",
   "name": "python3"
  },
  "language_info": {
   "codemirror_mode": {
    "name": "ipython",
    "version": 3
   },
   "file_extension": ".py",
   "mimetype": "text/x-python",
   "name": "python",
   "nbconvert_exporter": "python",
   "pygments_lexer": "ipython3",
   "version": "3.9.2"
  }
 },
 "nbformat": 4,
 "nbformat_minor": 5
}
