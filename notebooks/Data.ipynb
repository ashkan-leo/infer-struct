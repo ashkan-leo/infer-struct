{
 "cells": [
  {
   "cell_type": "markdown",
   "id": "neutral-substance",
   "metadata": {},
   "source": [
    "# Preamble"
   ]
  },
  {
   "cell_type": "markdown",
   "id": "nasty-cholesterol",
   "metadata": {},
   "source": [
    "Ignore the errors raised because of nb-black"
   ]
  },
  {
   "cell_type": "code",
   "execution_count": null,
   "id": "dominican-europe",
   "metadata": {},
   "outputs": [],
   "source": [
    "cd ../"
   ]
  },
  {
   "cell_type": "code",
   "execution_count": 7,
   "id": "little-hollow",
   "metadata": {},
   "outputs": [
    {
     "data": {
      "text/plain": [
       "'/Users/ashkanaleali/w/infer_struct'"
      ]
     },
     "execution_count": 7,
     "metadata": {},
     "output_type": "execute_result"
    },
    {
     "name": "stdout",
     "output_type": "stream",
     "text": [
      "time: 2.4 ms (started: 2021-03-30 22:50:53 -05:00)\n"
     ]
    }
   ],
   "source": [
    "pwd"
   ]
  },
  {
   "cell_type": "code",
   "execution_count": 8,
   "id": "ranking-comment",
   "metadata": {},
   "outputs": [
    {
     "name": "stdout",
     "output_type": "stream",
     "text": [
      "The lab_black extension is already loaded. To reload it, use:\n",
      "  %reload_ext lab_black\n",
      "The autoreload extension is already loaded. To reload it, use:\n",
      "  %reload_ext autoreload\n",
      "The autotime extension is already loaded. To reload it, use:\n",
      "  %reload_ext autotime\n",
      "time: 7.92 ms (started: 2021-03-30 22:51:28 -05:00)\n"
     ]
    }
   ],
   "source": [
    "%load_ext lab_black\n",
    "%matplotlib inline\n",
    "%load_ext autoreload\n",
    "%autoreload 2\n",
    "%load_ext autotime"
   ]
  },
  {
   "cell_type": "markdown",
   "id": "danish-guinea",
   "metadata": {},
   "source": [
    "## Imports"
   ]
  },
  {
   "cell_type": "code",
   "execution_count": 59,
   "id": "daily-parks",
   "metadata": {},
   "outputs": [
    {
     "name": "stdout",
     "output_type": "stream",
     "text": [
      "time: 2.92 ms (started: 2021-03-30 23:21:34 -05:00)\n"
     ]
    }
   ],
   "source": [
    "import os\n",
    "import numpy as np\n",
    "import pandas as pd"
   ]
  },
  {
   "cell_type": "code",
   "execution_count": 109,
   "id": "executive-wireless",
   "metadata": {},
   "outputs": [
    {
     "name": "stdout",
     "output_type": "stream",
     "text": [
      "time: 4.13 ms (started: 2021-03-31 00:12:57 -05:00)\n"
     ]
    }
   ],
   "source": [
    "from infer_struct.data import PowerGridSimpleExample"
   ]
  },
  {
   "cell_type": "markdown",
   "id": "sunset-malawi",
   "metadata": {},
   "source": [
    "# Data"
   ]
  },
  {
   "cell_type": "markdown",
   "id": "historic-liechtenstein",
   "metadata": {},
   "source": [
    "This notebook is just to see how to load the data Amir has provided."
   ]
  },
  {
   "cell_type": "code",
   "execution_count": 110,
   "id": "monthly-cherry",
   "metadata": {},
   "outputs": [
    {
     "name": "stdout",
     "output_type": "stream",
     "text": [
      "time: 5.06 ms (started: 2021-03-31 00:12:59 -05:00)\n"
     ]
    }
   ],
   "source": [
    "node_number = 9\n",
    "data_dir = \"../data/Network_raw_data_Ashkan/\"\n",
    "example_id = f\"{node_number}_nodes\""
   ]
  },
  {
   "cell_type": "code",
   "execution_count": 114,
   "id": "removable-contribution",
   "metadata": {},
   "outputs": [
    {
     "name": "stdout",
     "output_type": "stream",
     "text": [
      "time: 27.8 ms (started: 2021-03-31 00:15:38 -05:00)\n"
     ]
    }
   ],
   "source": [
    "ex = PowerGridSimpleExample(node_number)"
   ]
  },
  {
   "cell_type": "markdown",
   "id": "resident-training",
   "metadata": {},
   "source": [
    "+ There are 2 $nxn$ matrices and 6 vectors for each example. The vectors have length < $n$ and the missing elements are treated as zero.\n",
    "+ Each vector is given by a tuple where the first element is the index of the element -- sparse matrix representation?\n"
   ]
  },
  {
   "cell_type": "code",
   "execution_count": null,
   "id": "multiple-discount",
   "metadata": {},
   "outputs": [],
   "source": [
    "np.fromiter()"
   ]
  },
  {
   "cell_type": "code",
   "execution_count": 134,
   "id": "liked-employment",
   "metadata": {},
   "outputs": [
    {
     "name": "stdout",
     "output_type": "stream",
     "text": [
      "[[ 0.      0.      0.      0.      0.      0.      0.      0.      0.\n",
      "   0.    ]\n",
      " [ 0.      0.     16.      0.      0.      0.      0.     16.      0.\n",
      "   0.    ]\n",
      " [ 0.      0.      0.     17.065   0.      0.      0.      0.      0.\n",
      "  17.065 ]\n",
      " [ 0.     17.361   0.      0.     39.614  11.684  10.689   0.      0.\n",
      "   0.    ]\n",
      " [ 0.      0.      0.      0.     11.684  17.764   0.      6.092   0.\n",
      "   0.    ]\n",
      " [ 0.      0.      0.      0.     10.689   0.     16.419   0.      0.\n",
      "   5.7334]\n",
      " [ 0.      0.     16.      0.      0.      6.092   0.     35.783  13.793\n",
      "   0.    ]\n",
      " [ 0.      0.      0.      0.      0.      0.      0.     13.793  23.645\n",
      "   9.8522]\n",
      " [ 0.      0.      0.     17.065   0.      0.      5.7334  0.      9.8522\n",
      "  32.529 ]]\n",
      "time: 4.64 ms (started: 2021-03-31 00:24:28 -05:00)\n"
     ]
    }
   ],
   "source": [
    "print(np.pad(ex.Ybus_mag, (1, 0)))"
   ]
  },
  {
   "cell_type": "code",
   "execution_count": 147,
   "id": "selective-corner",
   "metadata": {},
   "outputs": [
    {
     "name": "stdout",
     "output_type": "stream",
     "text": [
      "[[ 0.      0.      0.      0.      0.      0.      0.      0.      0.    ]\n",
      " [ 0.     16.      0.      0.      0.      0.     16.      0.      0.    ]\n",
      " [ 0.      0.     17.065   0.      0.      0.      0.      0.     17.065 ]\n",
      " [17.361   0.      0.     39.614  11.684  10.689   0.      0.      0.    ]\n",
      " [ 0.      0.      0.     11.684  17.764   0.      6.092   0.      0.    ]\n",
      " [ 0.      0.      0.     10.689   0.     16.419   0.      0.      5.7334]\n",
      " [ 0.     16.      0.      0.      6.092   0.     35.783  13.793   0.    ]\n",
      " [ 0.      0.      0.      0.      0.      0.     13.793  23.645   9.8522]\n",
      " [ 0.      0.     17.065   0.      0.      5.7334  0.      9.8522 32.529 ]]\n",
      "time: 6.93 ms (started: 2021-03-31 00:27:45 -05:00)\n"
     ]
    }
   ],
   "source": [
    "print(np.vstack((np.zeros_like(ex.Ybus_mag[0]), ex.Ybus_mag)))"
   ]
  },
  {
   "cell_type": "code",
   "execution_count": 133,
   "id": "legislative-kidney",
   "metadata": {},
   "outputs": [
    {
     "data": {
      "text/plain": [
       "(8, 9)"
      ]
     },
     "execution_count": 133,
     "metadata": {},
     "output_type": "execute_result"
    },
    {
     "name": "stdout",
     "output_type": "stream",
     "text": [
      "time: 4.04 ms (started: 2021-03-31 00:23:54 -05:00)\n"
     ]
    }
   ],
   "source": [
    "ex.Ybus_mag.shape"
   ]
  },
  {
   "cell_type": "code",
   "execution_count": 138,
   "id": "worst-daisy",
   "metadata": {},
   "outputs": [
    {
     "data": {
      "text/plain": [
       "(8, 9)"
      ]
     },
     "execution_count": 138,
     "metadata": {},
     "output_type": "execute_result"
    },
    {
     "name": "stdout",
     "output_type": "stream",
     "text": [
      "time: 5.95 ms (started: 2021-03-31 00:24:54 -05:00)\n"
     ]
    }
   ],
   "source": [
    "np.pad(ex.Ybus_mag, ().shape"
   ]
  },
  {
   "cell_type": "code",
   "execution_count": 129,
   "id": "supported-berry",
   "metadata": {},
   "outputs": [
    {
     "name": "stdout",
     "output_type": "stream",
     "text": [
      "[[ 0.     16.      0.      0.      0.      0.     16.      0.      0.    ]\n",
      " [ 0.      0.     17.065   0.      0.      0.      0.      0.     17.065 ]\n",
      " [17.361   0.      0.     39.614  11.684  10.689   0.      0.      0.    ]\n",
      " [ 0.      0.      0.     11.684  17.764   0.      6.092   0.      0.    ]\n",
      " [ 0.      0.      0.     10.689   0.     16.419   0.      0.      5.7334]\n",
      " [ 0.     16.      0.      0.      6.092   0.     35.783  13.793   0.    ]\n",
      " [ 0.      0.      0.      0.      0.      0.     13.793  23.645   9.8522]\n",
      " [ 0.      0.     17.065   0.      0.      5.7334  0.      9.8522 32.529 ]]\n",
      "time: 4.75 ms (started: 2021-03-31 00:23:07 -05:00)\n"
     ]
    }
   ],
   "source": [
    "print(ex.Ybus_mag)"
   ]
  },
  {
   "cell_type": "code",
   "execution_count": 94,
   "id": "narrow-alpha",
   "metadata": {},
   "outputs": [
    {
     "name": "stdout",
     "output_type": "stream",
     "text": [
      "time: 8.19 ms (started: 2021-03-30 23:37:38 -05:00)\n"
     ]
    }
   ],
   "source": [
    "pl_df = pd.read_csv(power_grid._get_path(\"pl\"), header=0)"
   ]
  },
  {
   "cell_type": "code",
   "execution_count": 106,
   "id": "sitting-mirror",
   "metadata": {},
   "outputs": [
    {
     "name": "stdout",
     "output_type": "stream",
     "text": [
      "time: 4.91 ms (started: 2021-03-30 23:41:06 -05:00)\n"
     ]
    }
   ],
   "source": [
    "pl_ixs = pl_df.iloc[:, 0]\n",
    "pl_vals = pl_df.iloc[:, 1]"
   ]
  },
  {
   "cell_type": "code",
   "execution_count": 108,
   "id": "binding-domestic",
   "metadata": {},
   "outputs": [
    {
     "data": {
      "text/plain": [
       "array([0., 0., 0., 0., 0., 0., 0., 0., 0., 0.])"
      ]
     },
     "execution_count": 108,
     "metadata": {},
     "output_type": "execute_result"
    },
    {
     "name": "stdout",
     "output_type": "stream",
     "text": [
      "time: 2.75 ms (started: 2021-03-30 23:45:02 -05:00)\n"
     ]
    }
   ],
   "source": [
    "np.zeros(10)"
   ]
  },
  {
   "cell_type": "code",
   "execution_count": 107,
   "id": "downtown-association",
   "metadata": {},
   "outputs": [
    {
     "data": {
      "text/plain": [
       "0    2\n",
       "1    3\n",
       "2    4\n",
       "3    5\n",
       "4    6\n",
       "5    7\n",
       "6    8\n",
       "7    9\n",
       "Name: 1, dtype: int64"
      ]
     },
     "execution_count": 107,
     "metadata": {},
     "output_type": "execute_result"
    },
    {
     "name": "stdout",
     "output_type": "stream",
     "text": [
      "time: 3.51 ms (started: 2021-03-30 23:43:26 -05:00)\n"
     ]
    }
   ],
   "source": [
    "pl_ixs"
   ]
  },
  {
   "cell_type": "code",
   "execution_count": 57,
   "id": "therapeutic-adrian",
   "metadata": {},
   "outputs": [
    {
     "data": {
      "text/plain": [
       "array([[2.000e+00, 9.000e+00],\n",
       "       [3.000e+00, 1.000e+02],\n",
       "       [4.000e+00, 1.500e+02],\n",
       "       ...,\n",
       "       [2.381e+03, 0.000e+00],\n",
       "       [2.382e+03, 4.000e-01],\n",
       "       [2.383e+03, 2.000e+01]])"
      ]
     },
     "execution_count": 57,
     "metadata": {},
     "output_type": "execute_result"
    },
    {
     "name": "stdout",
     "output_type": "stream",
     "text": [
      "time: 6.31 ms (started: 2021-03-30 23:07:30 -05:00)\n"
     ]
    }
   ],
   "source": [
    "power_grid.ql"
   ]
  },
  {
   "cell_type": "code",
   "execution_count": 43,
   "id": "monetary-character",
   "metadata": {},
   "outputs": [
    {
     "data": {
      "text/plain": [
       "array([[ 2. , 21.7],\n",
       "       [ 3. , 94.2],\n",
       "       [ 4. , 11.2],\n",
       "       [ 5. ,  0. ],\n",
       "       [ 6. , 47.8],\n",
       "       [ 7. ,  7.6],\n",
       "       [ 8. ,  0. ],\n",
       "       [ 9. , 29.5],\n",
       "       [10. ,  9. ],\n",
       "       [11. ,  3.5],\n",
       "       [12. ,  6.1],\n",
       "       [13. , 13.5],\n",
       "       [14. , 14.9]])"
      ]
     },
     "execution_count": 43,
     "metadata": {},
     "output_type": "execute_result"
    },
    {
     "name": "stdout",
     "output_type": "stream",
     "text": [
      "time: 5.18 ms (started: 2021-03-30 23:06:37 -05:00)\n"
     ]
    }
   ],
   "source": [
    "power_grid.pl"
   ]
  },
  {
   "cell_type": "code",
   "execution_count": 44,
   "id": "engaged-madness",
   "metadata": {},
   "outputs": [
    {
     "data": {
      "text/plain": [
       "array([[ 2, 40],\n",
       "       [ 3,  0],\n",
       "       [ 4,  0],\n",
       "       [ 5,  0]])"
      ]
     },
     "execution_count": 44,
     "metadata": {},
     "output_type": "execute_result"
    },
    {
     "name": "stdout",
     "output_type": "stream",
     "text": [
      "time: 5.4 ms (started: 2021-03-30 23:06:39 -05:00)\n"
     ]
    }
   ],
   "source": [
    "power_grid.pg"
   ]
  },
  {
   "cell_type": "code",
   "execution_count": 45,
   "id": "compatible-monte",
   "metadata": {},
   "outputs": [
    {
     "data": {
      "text/plain": [
       "array([[  2.    ,  -6.997 ],\n",
       "       [  3.    ,  -6.1129],\n",
       "       [  4.    , 135.67  ],\n",
       "       [  5.    ,   1.2275]])"
      ]
     },
     "execution_count": 45,
     "metadata": {},
     "output_type": "execute_result"
    },
    {
     "name": "stdout",
     "output_type": "stream",
     "text": [
      "time: 5.48 ms (started: 2021-03-30 23:06:41 -05:00)\n"
     ]
    }
   ],
   "source": [
    "power_grid.qg"
   ]
  },
  {
   "cell_type": "code",
   "execution_count": 46,
   "id": "opponent-implement",
   "metadata": {},
   "outputs": [
    {
     "data": {
      "text/plain": [
       "array([[ 2.    ,  1.045 ],\n",
       "       [ 3.    ,  1.01  ],\n",
       "       [ 4.    ,  1.07  ],\n",
       "       [ 5.    ,  1.09  ],\n",
       "       [ 6.    ,  1.0941],\n",
       "       [ 7.    ,  1.0873],\n",
       "       [ 8.    ,  1.0526],\n",
       "       [ 9.    ,  1.0903],\n",
       "       [10.    ,  1.0841],\n",
       "       [11.    ,  1.086 ],\n",
       "       [12.    ,  1.0801],\n",
       "       [13.    ,  1.0767],\n",
       "       [14.    ,  1.0669]])"
      ]
     },
     "execution_count": 46,
     "metadata": {},
     "output_type": "execute_result"
    },
    {
     "name": "stdout",
     "output_type": "stream",
     "text": [
      "time: 4.55 ms (started: 2021-03-30 23:06:42 -05:00)\n"
     ]
    }
   ],
   "source": [
    "power_grid.v"
   ]
  },
  {
   "cell_type": "code",
   "execution_count": 47,
   "id": "convertible-cisco",
   "metadata": {},
   "outputs": [
    {
     "data": {
      "text/plain": [
       "array([[ 2.      , -0.085603],\n",
       "       [ 3.      , -0.21446 ],\n",
       "       [ 4.      , -0.18823 ],\n",
       "       [ 5.      , -0.25953 ],\n",
       "       [ 6.      , -0.30589 ],\n",
       "       [ 7.      , -0.27082 ],\n",
       "       [ 8.      , -0.16316 ],\n",
       "       [ 9.      , -0.29011 ],\n",
       "       [10.      , -0.2976  ],\n",
       "       [11.      , -0.30378 ],\n",
       "       [12.      , -0.31809 ],\n",
       "       [13.      , -0.31756 ],\n",
       "       [14.      , -0.31847 ]])"
      ]
     },
     "execution_count": 47,
     "metadata": {},
     "output_type": "execute_result"
    },
    {
     "name": "stdout",
     "output_type": "stream",
     "text": [
      "time: 7.47 ms (started: 2021-03-30 23:06:47 -05:00)\n"
     ]
    }
   ],
   "source": [
    "power_grid.d"
   ]
  },
  {
   "cell_type": "code",
   "execution_count": 36,
   "id": "quality-payroll",
   "metadata": {},
   "outputs": [
    {
     "data": {
      "text/plain": [
       "(8, 9)"
      ]
     },
     "execution_count": 36,
     "metadata": {},
     "output_type": "execute_result"
    },
    {
     "name": "stdout",
     "output_type": "stream",
     "text": [
      "time: 2.91 ms (started: 2021-03-30 22:59:17 -05:00)\n"
     ]
    }
   ],
   "source": [
    "power_grid.Ybus_mag.shape"
   ]
  },
  {
   "cell_type": "code",
   "execution_count": 37,
   "id": "criminal-probe",
   "metadata": {},
   "outputs": [
    {
     "data": {
      "text/plain": [
       "(8, 9)"
      ]
     },
     "execution_count": 37,
     "metadata": {},
     "output_type": "execute_result"
    },
    {
     "name": "stdout",
     "output_type": "stream",
     "text": [
      "time: 5.06 ms (started: 2021-03-30 22:59:25 -05:00)\n"
     ]
    }
   ],
   "source": [
    "power_grid.Ybus_theta.shape"
   ]
  }
 ],
 "metadata": {
  "kernelspec": {
   "display_name": "Python 3",
   "language": "python",
   "name": "python3"
  },
  "language_info": {
   "codemirror_mode": {
    "name": "ipython",
    "version": 3
   },
   "file_extension": ".py",
   "mimetype": "text/x-python",
   "name": "python",
   "nbconvert_exporter": "python",
   "pygments_lexer": "ipython3",
   "version": "3.9.2"
  }
 },
 "nbformat": 4,
 "nbformat_minor": 5
}
