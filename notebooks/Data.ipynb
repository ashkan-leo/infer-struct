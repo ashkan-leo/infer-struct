{
 "cells": [
  {
   "cell_type": "markdown",
   "id": "exposed-surveillance",
   "metadata": {},
   "source": [
    "# Preamble"
   ]
  },
  {
   "cell_type": "markdown",
   "id": "involved-remark",
   "metadata": {},
   "source": [
    "Ignore the errors raised because of nb-black"
   ]
  },
  {
   "cell_type": "code",
   "execution_count": 1,
   "id": "changing-transparency",
   "metadata": {},
   "outputs": [
    {
     "name": "stdout",
     "output_type": "stream",
     "text": [
      "/Users/ashkanaleali/w/infer_struct\n"
     ]
    }
   ],
   "source": [
    "cd ../"
   ]
  },
  {
   "cell_type": "code",
   "execution_count": 2,
   "id": "polish-execution",
   "metadata": {},
   "outputs": [
    {
     "data": {
      "text/plain": [
       "'/Users/ashkanaleali/w/infer_struct'"
      ]
     },
     "execution_count": 2,
     "metadata": {},
     "output_type": "execute_result"
    }
   ],
   "source": [
    "pwd"
   ]
  },
  {
   "cell_type": "code",
   "execution_count": 78,
   "id": "quick-privacy",
   "metadata": {},
   "outputs": [
    {
     "name": "stdout",
     "output_type": "stream",
     "text": [
      "The lab_black extension is already loaded. To reload it, use:\n",
      "  %reload_ext lab_black\n",
      "The autoreload extension is already loaded. To reload it, use:\n",
      "  %reload_ext autoreload\n",
      "The autotime extension is already loaded. To reload it, use:\n",
      "  %reload_ext autotime\n",
      "time: 18.8 ms (started: 2021-03-31 21:17:27 -05:00)\n"
     ]
    }
   ],
   "source": [
    "%load_ext lab_black\n",
    "%matplotlib inline\n",
    "%load_ext autoreload\n",
    "%autoreload 2\n",
    "%load_ext autotime\n",
    "\n",
    "import math\n",
    "import matplotlib as mpl\n",
    "import matplotlib.pyplot as plt\n",
    "import pyplot_themes as themes\n",
    "import array_to_latex as a2l\n",
    "import os\n",
    "import numpy as np\n",
    "import pandas as pd\n",
    "import networkx as nx\n",
    "\n",
    "\n",
    "mpl.rcParams.update({\"font.size\": 12, \"figure.figsize\": (7, 5), \"figure.dpi\": 100})\n",
    "# mpl.rcParams['figure.dpi'] = 300\n",
    "plt.style.use(\"dark_background\")\n",
    "# themes.theme_solarized(scheme=\"dark\", figsize=(7, 5), fontsize=12)\n",
    "mpl.rcParams[\"axes.labelcolor\"] = \"#808080\""
   ]
  },
  {
   "cell_type": "code",
   "execution_count": 116,
   "id": "hindu-finance",
   "metadata": {},
   "outputs": [
    {
     "name": "stdout",
     "output_type": "stream",
     "text": [
      "time: 3.03 ms (started: 2021-03-31 23:02:10 -05:00)\n"
     ]
    }
   ],
   "source": [
    "from infer_struct.data import PowerGridSimpleExample\n",
    "from infer_struct import util"
   ]
  },
  {
   "cell_type": "markdown",
   "id": "cultural-bulgarian",
   "metadata": {},
   "source": [
    "# Data"
   ]
  },
  {
   "cell_type": "markdown",
   "id": "facial-shield",
   "metadata": {},
   "source": [
    "This notebook is just to see how to load the data Amir has provided."
   ]
  },
  {
   "cell_type": "code",
   "execution_count": 6,
   "id": "rolled-procedure",
   "metadata": {},
   "outputs": [
    {
     "name": "stdout",
     "output_type": "stream",
     "text": [
      "time: 3.46 ms (started: 2021-03-31 12:58:16 -05:00)\n"
     ]
    }
   ],
   "source": [
    "node_number = 9\n",
    "data_dir = \"../data/Network_raw_data_Ashkan/\"\n",
    "example_id = f\"{node_number}_nodes\""
   ]
  },
  {
   "cell_type": "code",
   "execution_count": 7,
   "id": "entertaining-publication",
   "metadata": {},
   "outputs": [
    {
     "name": "stdout",
     "output_type": "stream",
     "text": [
      "time: 23.9 ms (started: 2021-03-31 12:58:16 -05:00)\n"
     ]
    }
   ],
   "source": [
    "ex = PowerGridSimpleExample(node_number)"
   ]
  },
  {
   "cell_type": "markdown",
   "id": "formed-juice",
   "metadata": {},
   "source": [
    "+ There are 2 $nxn$ matrices and 6 vectors for each example. The vectors have length < $n$ and the missing elements are treated as zero.\n",
    "+ Each vector is given by a tuple where the first element is the index of the element -- sparse matrix representation?\n"
   ]
  },
  {
   "cell_type": "markdown",
   "id": "equivalent-sheep",
   "metadata": {},
   "source": [
    "The PowerGridSimpleExample do some normalizations and also provide weighted network data structures:"
   ]
  },
  {
   "cell_type": "code",
   "execution_count": 30,
   "id": "eleven-gregory",
   "metadata": {},
   "outputs": [
    {
     "data": {
      "image/png": "[encoded data removed]",
      "text/plain": [
       "<Figure size 1000x300 with 2 Axes>"
      ]
     },
     "metadata": {},
     "output_type": "display_data"
    },
    {
     "name": "stdout",
     "output_type": "stream",
     "text": [
      "time: 154 ms (started: 2021-03-31 18:51:22 -05:00)\n"
     ]
    }
   ],
   "source": [
    "fig, ax = plt.subplots(ncols=2, figsize=(10, 3))\n",
    "nx.draw(ex.Gbus_theta, ax=ax[0])\n",
    "nx.draw(ex.Gbus_mag, ax=ax[1])"
   ]
  },
  {
   "cell_type": "markdown",
   "id": "traditional-punch",
   "metadata": {},
   "source": [
    "It would be nice to figure out a way to add theta and mag as different attributes of the same undirected graph."
   ]
  },
  {
   "cell_type": "markdown",
   "id": "central-apollo",
   "metadata": {},
   "source": [
    "The equation of power grid has three components:\n",
    "\n",
    "1. $A_i = PG_i - PL_i$\n",
    "2. $B_i = v_i^2 Y_{ii} \\cos(\\theta_{ii})$\n",
    "3. $C_i = \\sum_{j=2}^n v_i v_j Y_{ij} \\cos(\\delta_i - \\delta_j - \\theta_{ij})$\n",
    "\n",
    "and we have $A_i = B_i + C_i\\ (\\forall i \\in \\{0, ..., n - 1\\})$\n",
    "\n",
    "$A$ and $B$ are easy to vectorize. Let's focus on C.\n",
    "\n",
    "There are two outer products:\n",
    "1. $v \\otimes v$\n",
    "2. $\\delta \\ominus \\delta$\n",
    "\n",
    "where $\\otimes$ and $\\ominus$ denote outer product w.r.t. $\\times$ and $-$ operators."
   ]
  },
  {
   "cell_type": "code",
   "execution_count": 185,
   "id": "everyday-stereo",
   "metadata": {},
   "outputs": [
    {
     "name": "stdout",
     "output_type": "stream",
     "text": [
      "time: 13.2 ms (started: 2021-04-01 14:18:28 -05:00)\n"
     ]
    }
   ],
   "source": [
    "def power_grid_equation_lhs(pg, pl):\n",
    "    \"\"\"Compute the A. equation\"\"\"\n",
    "    return pg - pl\n",
    "\n",
    "    \"\"\"Compute the B. equation\"\"\"\n",
    "    return np.diag(Y) * np.cos(np.diag(Theta)) * (v ** 2)\n",
    "\n",
    "\n",
    "def power_grid_equation_rhs(Y, Theta, v, delta):\n",
    "    \"\"\"Compute the right hand side of the power grid equation\"\"\"\n",
    "    return np.diag(\n",
    "        np.multiply(np.multiply.outer(v, v), Y)\n",
    "        @ np.cos(np.subtract.outer(delta, delta) - Theta)\n",
    "    )"
   ]
  },
  {
   "cell_type": "code",
   "execution_count": 186,
   "id": "monetary-letters",
   "metadata": {},
   "outputs": [
    {
     "data": {
      "text/plain": [
       "array([-0.71967375, -1.63010559, -0.85015657,  0.12685005,  1.10971496,\n",
       "        0.8022292 ,  0.1542487 ,  0.93126026,  0.12727834])"
      ]
     },
     "execution_count": 186,
     "metadata": {},
     "output_type": "execute_result"
    },
    {
     "name": "stdout",
     "output_type": "stream",
     "text": [
      "time: 7.56 ms (started: 2021-04-01 14:18:28 -05:00)\n"
     ]
    }
   ],
   "source": [
    "power_grid_equation_rhs(ex.Ybus_mag, ex.Ybus_theta, ex.v, ex.d)"
   ]
  },
  {
   "cell_type": "code",
   "execution_count": 177,
   "id": "golden-hanging",
   "metadata": {},
   "outputs": [
    {
     "data": {
      "text/plain": [
       "array([  71.955,  163.   ,   85.   ,    0.   , -125.   ,  -90.   ,\n",
       "          0.   , -100.   ,    0.   ])"
      ]
     },
     "execution_count": 177,
     "metadata": {},
     "output_type": "execute_result"
    },
    {
     "name": "stdout",
     "output_type": "stream",
     "text": [
      "time: 5.79 ms (started: 2021-04-01 14:08:27 -05:00)\n"
     ]
    }
   ],
   "source": [
    "power_grid_equation_lhs(ex.pg, ex.pl)"
   ]
  },
  {
   "cell_type": "markdown",
   "id": "transsexual-sunset",
   "metadata": {},
   "source": [
    "hmm. the values should match. let's implement the for loop algorithm and see if that also produces garbage"
   ]
  },
  {
   "cell_type": "code",
   "execution_count": 206,
   "id": "adult-semiconductor",
   "metadata": {},
   "outputs": [
    {
     "name": "stdout",
     "output_type": "stream",
     "text": [
      "time: 17.1 ms (started: 2021-04-01 14:28:39 -05:00)\n"
     ]
    }
   ],
   "source": [
    "def power_grid_equation_lhs2(pg, pl):\n",
    "    res = np.zeros_like(pg)\n",
    "    for i in range(len(res)):\n",
    "        res[i] = pg[i] - pl[i]\n",
    "    return res\n",
    "\n",
    "\n",
    "def power_grid_equation_rhs2(Y, Theta, v, delta):\n",
    "    res = np.zeros_like(v)\n",
    "    for i in range(len(res)):\n",
    "        a = v[i] * Y[i, i] * math.cos(Theta[i, i])\n",
    "        b = 0\n",
    "        for j in range(len(res)):\n",
    "            if j != i:\n",
    "                b += v[i] * v[j] * Y[i, j] * math.cos(delta[i] - delta[j] - Theta[i, j])\n",
    "        res[i] = a + b\n",
    "    return res"
   ]
  },
  {
   "cell_type": "code",
   "execution_count": 208,
   "id": "spread-replication",
   "metadata": {},
   "outputs": [
    {
     "data": {
      "text/plain": [
       "array([-7.12355796e+01, -1.61370128e+02, -8.41500944e+01,  4.28911066e-02,\n",
       "        1.23853496e+02,  8.91778979e+01,  1.19401009e-02,  9.90389989e+01,\n",
       "       -8.03836363e-03])"
      ]
     },
     "execution_count": 208,
     "metadata": {},
     "output_type": "execute_result"
    },
    {
     "name": "stdout",
     "output_type": "stream",
     "text": [
      "time: 10.2 ms (started: 2021-04-01 14:29:18 -05:00)\n"
     ]
    }
   ],
   "source": [
    "power_grid_equation_rhs2(\n",
    "    ex.Ybus_mag, ex.Ybus_theta, ex.v, ex.d\n",
    ") - power_grid_equation_lhs2(ex.pg, ex.pl)"
   ]
  },
  {
   "cell_type": "code",
   "execution_count": 202,
   "id": "trained-appearance",
   "metadata": {},
   "outputs": [
    {
     "data": {
      "text/plain": [
       "9"
      ]
     },
     "execution_count": 202,
     "metadata": {},
     "output_type": "execute_result"
    },
    {
     "name": "stdout",
     "output_type": "stream",
     "text": [
      "time: 4.87 ms (started: 2021-04-01 14:28:04 -05:00)\n"
     ]
    }
   ],
   "source": []
  }
 ],
 "metadata": {
  "kernelspec": {
   "display_name": "Python 3",
   "language": "python",
   "name": "python3"
  },
  "language_info": {
   "codemirror_mode": {
    "name": "ipython",
    "version": 3
   },
   "file_extension": ".py",
   "mimetype": "text/x-python",
   "name": "python",
   "nbconvert_exporter": "python",
   "pygments_lexer": "ipython3",
   "version": "3.9.2"
  }
 },
 "nbformat": 4,
 "nbformat_minor": 5
}
